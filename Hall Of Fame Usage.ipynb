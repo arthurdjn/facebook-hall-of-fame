{
 "cells": [
  {
   "cell_type": "markdown",
   "metadata": {},
   "source": [
    "# **Hall Of Fame Usage**\n",
    "\n",
    "\n",
    "This notebook will higlights ``halloffame`` API and its main usage.\n",
    "\n",
    "\n",
    "The notebook is divided into five parts:\n",
    "* API / Connections\n",
    "* Scraping processes\n",
    "* Built-in statistics\n",
    "* Publishing / Editing\n",
    "* Furter statistics\n",
    "\n",
    "First, let's import the package."
   ]
  },
  {
   "cell_type": "code",
   "execution_count": 5,
   "metadata": {},
   "outputs": [],
   "source": [
    "from halloffame import HallOfFameAPI\n",
    "from halloffame.utils import *"
   ]
  },
  {
   "cell_type": "markdown",
   "metadata": {},
   "source": [
    "# Connect to the API\n",
    "\n",
    "## Warning !\n",
    "\n",
    "> To block scraping process and protect user's data, facebook uses dynamic CSS sheets. Thus, when a facebook page is refreshed or loaded, the HTML elements id change over time. To bypass this issue, this package uses a table of known elements, so the bot can be aware when an id changed in the CSS when a page refreshes.\n",
    "\n",
    "\n",
    "You will need to provide URLs to unique reactions. You can achieved that by creating a group, create multiple posts and associate for each a unique reaction (`LOVE`, `AHAH`, `LIKE` etc.). Then, click on the reaction and copy/paste its URL. Note that you should use the [mobile version of facebook](https://m.facebook.com) to retrive the URL and not the standard version of facebook."
   ]
  },
  {
   "cell_type": "code",
   "execution_count": 6,
   "metadata": {},
   "outputs": [],
   "source": [
    "REACTION2HREF = {\n",
    "    \"LIKE\":  \"/ufi/reaction/profile/browser/?ft_ent_identifier=747380026193010_748370809427265&av=1505898474&ref=group_browse\",\n",
    "    \"LOVE\":  \"/ufi/reaction/profile/browser/?ft_ent_identifier=747380026193010_748370826093930&av=1505898474&ref=group_browse\",\n",
    "    \"CARE\":  \"/ufi/reaction/profile/browser/?ft_ent_identifier=747380026193010_748370842760595&av=1505898474&ref=group_browse\",\n",
    "    \"AHAH\":  \"/ufi/reaction/profile/browser/?ft_ent_identifier=747380026193010_748370846093928&av=1505898474&ref=group_browse\",\n",
    "    \"WOW\":   \"/ufi/reaction/profile/browser/?ft_ent_identifier=747380026193010_748370879427258&av=1505898474&ref=group_browse\",\n",
    "    \"SAD\":   \"/ufi/reaction/profile/browser/?ft_ent_identifier=747380026193010_748370896093923&av=1505898474&ref=group_browse\",\n",
    "    \"ANGER\": \"/ufi/reaction/profile/browser/?ft_ent_identifier=747380026193010_748370906093922&av=1505898474&ref=group_browse\"\n",
    "}"
   ]
  },
  {
   "cell_type": "code",
   "execution_count": 7,
   "metadata": {},
   "outputs": [],
   "source": [
    "# Path to `geckodriver.exe`\n",
    "EXECUTABLE_PATH = \"driver/geckodriver.exe\"\n",
    "\n",
    "\n",
    "api = HallOfFameAPI(executable_path=EXECUTABLE_PATH, reaction2href=REACTION2HREF)"
   ]
  },
  {
   "cell_type": "markdown",
   "metadata": {},
   "source": [
    "Connect to the API with your credentials."
   ]
  },
  {
   "cell_type": "code",
   "execution_count": 8,
   "metadata": {},
   "outputs": [],
   "source": [
    "EMAIL = \"your_email\"\n",
    "PASSWORD = \"your_password\"\n",
    "\n",
    "api.login(EMAIL, PASSWORD)"
   ]
  },
  {
   "cell_type": "markdown",
   "metadata": {},
   "source": [
    "Initialize the reactions from the ``REACTION2HREF`` table."
   ]
  },
  {
   "cell_type": "code",
   "execution_count": 9,
   "metadata": {},
   "outputs": [],
   "source": [
    "api.init_reactions()"
   ]
  },
  {
   "cell_type": "markdown",
   "metadata": {},
   "source": [
    "This ``init`` method will extract the corresponding class for each reaction. You can acess the table with ``class2reaction``attribute."
   ]
  },
  {
   "cell_type": "code",
   "execution_count": 10,
   "metadata": {},
   "outputs": [
    {
     "data": {
      "text/plain": [
       "{'sx_4760b1': 'LIKE',\n",
       " 'sx_b2274b': 'LOVE',\n",
       " 'sx_16145c': 'CARE',\n",
       " 'sx_b86f23': 'AHAH',\n",
       " 'sx_fedc67': 'WOW',\n",
       " 'sx_dae72a': 'SAD',\n",
       " 'sx_01fcdf': 'ANGER'}"
      ]
     },
     "execution_count": 10,
     "metadata": {},
     "output_type": "execute_result"
    }
   ],
   "source": [
    "api.class2reaction"
   ]
  },
  {
   "cell_type": "markdown",
   "metadata": {},
   "source": [
    "# Scraping process\n",
    "\n",
    "This section will list the scraping methods:\n",
    "\n",
    "* ``get_posts`` (return a list): retrieve all posts from a group,\n",
    "* ``get_comments`` (return a list): retrieve all comments, replies and their reactions from a post,\n",
    "* ``get_reactions`` (return a list): retrieve reactions from either a post, comment or reply.\n",
    "\n",
    "## Extract a comments from a post"
   ]
  },
  {
   "cell_type": "code",
   "execution_count": 11,
   "metadata": {},
   "outputs": [],
   "source": [
    "GROUP_ID = \"your_group_id\"\n",
    "POST_ID = \"your_group_id\"\n",
    "\n",
    "comments = api.get_comments(GROUP_ID, POST_ID)\n",
    "comments"
   ]
  },
  {
   "cell_type": "code",
   "execution_count": 14,
   "metadata": {},
   "outputs": [],
   "source": [
    "POST_ID = \"your_group_id\"\n",
    "\n",
    "reactions = api.get_reactions(POST_ID)\n",
    "reactions"
   ]
  },
  {
   "cell_type": "code",
   "execution_count": 18,
   "metadata": {},
   "outputs": [
    {
     "name": "stderr",
     "output_type": "stream",
     "text": [
      "Retrieving Data: 100%|███████████████████████████████████████████████████████████████████| 2/2 [00:18<00:00,  9.32s/it]\n"
     ]
    }
   ],
   "source": [
    "GROUP_ID = \"your_group_id\"\n",
    "TOP_K = 10      # Max posts retrieved\n",
    "SCROLL_MAX = 5  # Max number of scroll the bot makes in the group page (the lower it is, the less posts are scraped)\n",
    "\n",
    "posts = api.get_posts(GROUP_ID, topk=TOP_K, scroll_max=SCROLL_MAX)"
   ]
  },
  {
   "cell_type": "markdown",
   "metadata": {},
   "source": [
    "You should save the posts, in case your connection is breaks."
   ]
  },
  {
   "cell_type": "code",
   "execution_count": null,
   "metadata": {},
   "outputs": [],
   "source": [
    "import json\n",
    "\n",
    "with open(f\"posts.json\", \"w\", encoding=\"utf-8\") as file:\n",
    "    json.dump(posts, file, indent=4)"
   ]
  },
  {
   "cell_type": "markdown",
   "metadata": {},
   "source": [
    "Load your saved file:"
   ]
  },
  {
   "cell_type": "code",
   "execution_count": null,
   "metadata": {},
   "outputs": [],
   "source": [
    "import json\n",
    "\n",
    "with open(f\"posts.json\", \"r\", encoding=\"utf-8\") as file:\n",
    "    posts = json.load(file)"
   ]
  },
  {
   "cell_type": "markdown",
   "metadata": {},
   "source": [
    "# Built-in statistics\n",
    "\n",
    "You can use the built-in statistics to get an overview of the insights of your group."
   ]
  },
  {
   "cell_type": "code",
   "execution_count": null,
   "metadata": {},
   "outputs": [],
   "source": [
    "from halloffame import get_top_stats, get_user_stats\n",
    "\n",
    "user_stats = get_user_stats(posts)\n",
    "top_stats = get_top_stats(posts)"
   ]
  },
  {
   "cell_type": "markdown",
   "metadata": {},
   "source": [
    "# Apply a template\n",
    "\n",
    "To apply statistics in a facebook post, you can use a template: it will fasten your workflow.\n",
    "Simply write the general structure of your text and wrap the elements that sill change (either stats or fonts) with `<< >>` tags.\n",
    "\n",
    "For example, to apply a bold font on the text ``this is a text``, simply use ``<<BOLD>>this is a text<<BOLD>>``.\n",
    "Same for statistics: ``<<TOP1-BEST-POST-REACTION>>``. Note that ``BEST-POST-REACTION`` is a list, so to get the first user add the token ``TOP1`` (and ``TOP2`` for the second etc.).\n",
    "You can also use both together: ``<<BOLD>><<TOP1-BEST-POST-REACTION>><<BOLD>>``"
   ]
  },
  {
   "cell_type": "code",
   "execution_count": 51,
   "metadata": {},
   "outputs": [],
   "source": [
    "TEMPLATE = \"\"\"👑 <<BOLD-SERIF>>Hall Of Fame<<BOLD-ITALIC>> 👑  \n",
    "\n",
    "Here is a template example for a meme group.\n",
    "\n",
    "🔥 <<BOLD>>Rank<<BOLD>> 🔥  \n",
    "\n",
    "🏅 <<BOLD-ITALIC>>Best Memes<<BOLD-ITALIC>>  \n",
    "🥇 <<TOP1-BEST-POST-REACTION>>  \n",
    "🥈 <<TOP2-BEST-POST-REACTION>>   \n",
    "🥉 <<TOP3-BEST-POST-REACTION>>  \n",
    "\n",
    "𝑒𝑡𝑐...\n",
    "\n",
    "🔥 <<BOLD>>Honors<<BOLD>> 🔥\n",
    "\n",
    "📈 <<BOLD-ITALIC>>Most Active<<BOLD-ITALIC>>      \n",
    "🥇 <<TOP1-POST-COUNT>>  \n",
    "🥈 <<TOP2-POST-COUNT>>  \n",
    "🥉 <<TOP3-POST-COUNT>>   \n",
    "\n",
    "𝑒𝑡𝑐...\n",
    "\n",
    "🔥 <<BOLD>>Reactions<<BOLD>> 🔥  \n",
    "\n",
    "😆 <<BOLD-ITALIC>>Funniest<<BOLD-ITALIC>>  \n",
    "🥇 <<TOP1-REACTION-AHAH>>  \n",
    "🥈 <<TOP2-REACTION-AHAH>>  \n",
    "🥉 <<TOP3-REACTION-AHAH>>  \n",
    "\n",
    "𝑒𝑡𝑐...\n",
    "\n",
    "🕙 Message generated at <<DATE-NOW>>\"\"\""
   ]
  },
  {
   "cell_type": "code",
   "execution_count": null,
   "metadata": {},
   "outputs": [],
   "source": [
    "from halloffame import apply_template\n",
    "\n",
    "message = apply_template(template, top_stats)\n",
    "message"
   ]
  },
  {
   "cell_type": "markdown",
   "metadata": {},
   "source": [
    "# Publish / Edit a post"
   ]
  },
  {
   "cell_type": "code",
   "execution_count": null,
   "metadata": {},
   "outputs": [],
   "source": [
    "post_id = api.publish_post(GROUP_ID, message)\n",
    "post_id"
   ]
  },
  {
   "cell_type": "code",
   "execution_count": null,
   "metadata": {},
   "outputs": [],
   "source": [
    "api.edit_post(GROUP_ID, post_id, \"This message was updated\")"
   ]
  },
  {
   "cell_type": "markdown",
   "metadata": {},
   "source": [
    "# Further statistics\n",
    "\n",
    "This section present simple graphs that you can create from the list of posts previoulsy retrieved. \n",
    "\n",
    "## Time series"
   ]
  },
  {
   "cell_type": "code",
   "execution_count": 8,
   "metadata": {},
   "outputs": [
    {
     "data": {
      "text/plain": [
       "[<matplotlib.lines.Line2D at 0x2298dcce5e0>]"
      ]
     },
     "execution_count": 8,
     "metadata": {},
     "output_type": "execute_result"
    },
    {
     "data": {
      "image/png": "[encoded data removed]",
      "text/plain": [
       "<Figure size 432x288 with 1 Axes>"
      ]
     },
     "metadata": {
      "needs_background": "light"
     },
     "output_type": "display_data"
    }
   ],
   "source": [
    "import matplotlib.pyplot as plt\n",
    "from datetime import datetime\n",
    "\n",
    "posts_sorted = sorted(posts, key=lambda post: datetime.fromisoformat(post[\"date\"]).timestamp(), reverse=False)\n",
    "timeseries_reactions = [len(post[\"reactions\"]) for post in posts_sorted]\n",
    "\n",
    "plt.plot(timeseries_reactions)"
   ]
  },
  {
   "cell_type": "code",
   "execution_count": 9,
   "metadata": {},
   "outputs": [],
   "source": [
    "posts_sorted = sorted(posts, key=lambda post: datetime.fromisoformat(post[\"date\"]).timestamp(), reverse=False)\n",
    "dates = [datetime.fromisoformat(post[\"date\"]) for post in posts_sorted]\n",
    "timeseries_reactions = [len(post[\"reactions\"]) for post in posts_sorted]\n",
    "timeseries_comments = [len(post[\"comments\"]) for post in posts_sorted]"
   ]
  },
  {
   "cell_type": "markdown",
   "metadata": {},
   "source": [
    "## Pandas dataframe"
   ]
  },
  {
   "cell_type": "code",
   "execution_count": 11,
   "metadata": {},
   "outputs": [],
   "source": [
    "import pandas as pd\n",
    "\n",
    "df = pd.DataFrame({\"reaction\": timeseries_reactions, \"comment\": timeseries_comments}, index=pd.to_datetime(dates))"
   ]
  },
  {
   "cell_type": "code",
   "execution_count": 12,
   "metadata": {},
   "outputs": [
    {
     "data": {
      "text/html": [
       "<div>\n",
       "<style scoped>\n",
       "    .dataframe tbody tr th:only-of-type {\n",
       "        vertical-align: middle;\n",
       "    }\n",
       "\n",
       "    .dataframe tbody tr th {\n",
       "        vertical-align: top;\n",
       "    }\n",
       "\n",
       "    .dataframe thead th {\n",
       "        text-align: right;\n",
       "    }\n",
       "</style>\n",
       "<table border=\"1\" class=\"dataframe\">\n",
       "  <thead>\n",
       "    <tr style=\"text-align: right;\">\n",
       "      <th></th>\n",
       "      <th>reaction</th>\n",
       "      <th>comment</th>\n",
       "    </tr>\n",
       "  </thead>\n",
       "  <tbody>\n",
       "    <tr>\n",
       "      <th>2020-12-01 13:32:00</th>\n",
       "      <td>9</td>\n",
       "      <td>1</td>\n",
       "    </tr>\n",
       "    <tr>\n",
       "      <th>2020-12-02 12:54:00</th>\n",
       "      <td>29</td>\n",
       "      <td>0</td>\n",
       "    </tr>\n",
       "    <tr>\n",
       "      <th>2020-12-02 13:29:00</th>\n",
       "      <td>21</td>\n",
       "      <td>2</td>\n",
       "    </tr>\n",
       "    <tr>\n",
       "      <th>2020-12-02 19:35:00</th>\n",
       "      <td>40</td>\n",
       "      <td>5</td>\n",
       "    </tr>\n",
       "    <tr>\n",
       "      <th>2020-12-02 19:49:00</th>\n",
       "      <td>48</td>\n",
       "      <td>2</td>\n",
       "    </tr>\n",
       "    <tr>\n",
       "      <th>2020-12-02 20:56:00</th>\n",
       "      <td>37</td>\n",
       "      <td>0</td>\n",
       "    </tr>\n",
       "    <tr>\n",
       "      <th>2020-12-03 10:42:00</th>\n",
       "      <td>19</td>\n",
       "      <td>4</td>\n",
       "    </tr>\n",
       "    <tr>\n",
       "      <th>2020-12-03 21:45:00</th>\n",
       "      <td>25</td>\n",
       "      <td>0</td>\n",
       "    </tr>\n",
       "    <tr>\n",
       "      <th>2020-12-04 18:59:00</th>\n",
       "      <td>16</td>\n",
       "      <td>2</td>\n",
       "    </tr>\n",
       "    <tr>\n",
       "      <th>2020-12-05 17:34:00</th>\n",
       "      <td>32</td>\n",
       "      <td>1</td>\n",
       "    </tr>\n",
       "  </tbody>\n",
       "</table>\n",
       "</div>"
      ],
      "text/plain": [
       "                     reaction  comment\n",
       "2020-12-01 13:32:00         9        1\n",
       "2020-12-02 12:54:00        29        0\n",
       "2020-12-02 13:29:00        21        2\n",
       "2020-12-02 19:35:00        40        5\n",
       "2020-12-02 19:49:00        48        2\n",
       "2020-12-02 20:56:00        37        0\n",
       "2020-12-03 10:42:00        19        4\n",
       "2020-12-03 21:45:00        25        0\n",
       "2020-12-04 18:59:00        16        2\n",
       "2020-12-05 17:34:00        32        1"
      ]
     },
     "execution_count": 12,
     "metadata": {},
     "output_type": "execute_result"
    }
   ],
   "source": [
    "df.tail(10)"
   ]
  },
  {
   "cell_type": "markdown",
   "metadata": {},
   "source": [
    "## Weekly mean"
   ]
  },
  {
   "cell_type": "code",
   "execution_count": 19,
   "metadata": {},
   "outputs": [],
   "source": [
    "logic = {\n",
    "    'reaction'  : 'mean',\n",
    "     'comment'  : 'mean'\n",
    "}\n",
    "\n",
    "offset = pd.offsets.timedelta(days=6)\n",
    "\n",
    "df_week = df.resample('W', loffset=offset).apply(logic)\n",
    "# Interpolate missing data\n",
    "df_week = df_week.interpolate(method='quadratic', axis=0).ffill().bfill()"
   ]
  },
  {
   "cell_type": "code",
   "execution_count": 20,
   "metadata": {},
   "outputs": [
    {
     "data": {
      "text/plain": [
       "[<matplotlib.lines.Line2D at 0x229a8155f10>]"
      ]
     },
     "execution_count": 20,
     "metadata": {},
     "output_type": "execute_result"
    },
    {
     "data": {
      "image/png": "[encoded data removed]",
      "text/plain": [
       "<Figure size 432x288 with 1 Axes>"
      ]
     },
     "metadata": {
      "needs_background": "light"
     },
     "output_type": "display_data"
    }
   ],
   "source": [
    "plt.plot(df_week[\"reaction\"])"
   ]
  },
  {
   "cell_type": "markdown",
   "metadata": {},
   "source": [
    "## Sliding average"
   ]
  },
  {
   "cell_type": "code",
   "execution_count": 58,
   "metadata": {},
   "outputs": [],
   "source": [
    "import numpy as np\n",
    "\n",
    "N = 60  # Mean over N points\n",
    "mean = np.convolve(timeseries_reactions, np.ones(N)/N, mode='valid')"
   ]
  },
  {
   "cell_type": "code",
   "execution_count": 59,
   "metadata": {},
   "outputs": [
    {
     "data": {
      "text/plain": [
       "(344, 344, 14)"
      ]
     },
     "execution_count": 59,
     "metadata": {},
     "output_type": "execute_result"
    }
   ],
   "source": [
    "len(timeseries_reactions[N-1:]), len(mean), len(timeseries_reactions[::30])"
   ]
  },
  {
   "cell_type": "code",
   "execution_count": 60,
   "metadata": {},
   "outputs": [
    {
     "data": {
      "image/png": "[encoded data removed]",
      "text/plain": [
       "<Figure size 432x288 with 1 Axes>"
      ]
     },
     "metadata": {
      "needs_background": "light"
     },
     "output_type": "display_data"
    }
   ],
   "source": [
    "fig, ax = plt.subplots()\n",
    "\n",
    "plt.plot(dates[N-1:], mean, color=\"skyblue\", alpha=1)\n",
    "plt.scatter(dates[N-1:], timeseries_reactions[N-1:], color=\"skyblue\", alpha=0.5, s=1)\n",
    "ax.set_xlim(dates[N-1], dates[-1])\n",
    "\n",
    "plt.tight_layout()"
   ]
  }
 ],
 "metadata": {
  "kernelspec": {
   "display_name": "Python 3",
   "language": "python",
   "name": "python3"
  },
  "language_info": {
   "codemirror_mode": {
    "name": "ipython",
    "version": 3
   },
   "file_extension": ".py",
   "mimetype": "text/x-python",
   "name": "python",
   "nbconvert_exporter": "python",
   "pygments_lexer": "ipython3",
   "version": "3.8.3"
  }
 },
 "nbformat": 4,
 "nbformat_minor": 4
}